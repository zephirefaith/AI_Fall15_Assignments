{
 "cells": [
  {
   "cell_type": "markdown",
   "metadata": {},
   "source": [
    "# Assignment 2: Graph Search\n",
    "In this assignment you will be implementing a variety of graph search algorithms, with the eventual goal of solving tridirectional search.\n",
    "\n",
    "Before you start, you will need to install:\n",
    "\n",
    "1. [networkx](http://networkx.github.io/), which is a package for processing networks. This assignment will be easier if you take some time to test out and get familiar with the [basic methods](https://networkx.github.io/examples.html) of networkx.\n",
    "\n",
    "2. [matplotlib](http://matplotlib.org/downloads.html) for basic network visualization.\n",
    "\n",
    "We will be using two undirected networks for this assignment: a simplified map of Romania (from Russell and Norvig) and a full street map of Atlanta."
   ]
  },
  {
   "cell_type": "code",
   "execution_count": 532,
   "metadata": {
    "collapsed": false
   },
   "outputs": [],
   "source": [
    "from __future__ import division\n",
    "import random\n",
    "import matplotlib.pyplot as plt\n",
    "import pickle\n",
    "import sys\n",
    "sys.path.append('lib')\n",
    "import networkx"
   ]
  },
  {
   "cell_type": "code",
   "execution_count": 533,
   "metadata": {
    "collapsed": false
   },
   "outputs": [],
   "source": [
    "\"\"\"Romania map data from Russell and Norvig, Chapter 3.\"\"\"\n",
    "romania = pickle.load(open('romania_graph.pickle', 'rb'))"
   ]
  },
  {
   "cell_type": "markdown",
   "metadata": {},
   "source": [
    "Warmups\n",
    "------\n",
    "We'll start by implementing some simpler search and optimization methods before the real exercises."
   ]
  },
  {
   "cell_type": "markdown",
   "metadata": {},
   "source": [
    "Warmup 1: Priority queue\n",
    "----------------------\n",
    "5 points\n",
    "\n",
    "In all searches that involve calculating path cost or heuristic (e.g. uniform-cost), we have to order our search frontier. It turns out the way that we do this can impact our overall search runtime. \n",
    "\n",
    "To show this, you'll implement a [priority queue](https://en.wikipedia.org/wiki/Priority_queue) and demonstrate its performance benefits. For large graphs, sorting all input to a priority queue is impractical. As such, the datastructure you implement should have an amortized O(1) insertion and removal time. It should do better than the queue you've been provided in InsertionSortQueue().\n",
    "\n",
    "Hints: \n",
    "1. The [heapq](https://docs.python.org/2/library/heapq.html) module has been imported for you.\n",
    "2. Each edge has an associated weight."
   ]
  },
  {
   "cell_type": "code",
   "execution_count": 534,
   "metadata": {
    "collapsed": false
   },
   "outputs": [],
   "source": [
    "import heapq\n",
    "\n",
    "class PriorityQueue():\n",
    "    \"\"\"Implementation of a priority queue \n",
    "    to store nodes during search.\"\"\"\n",
    "    \n",
    "    # HINT look up the module heapq.\n",
    "\n",
    "    def __init__(self):\n",
    "        self.queue = []\n",
    "        self.current = 0 \n",
    "\n",
    "    def next(self):\n",
    "        if self.current >=len(self.queue):\n",
    "            self.current\n",
    "            raise StopIteration\n",
    "    \n",
    "        out = self.queue[self.current]\n",
    "        self.current += 1\n",
    "\n",
    "        return out\n",
    "\n",
    "    def pop(self):\n",
    "        return heapq.heappop(self.queue)\n",
    "\n",
    "    def __iter__(self):\n",
    "        return self\n",
    "\n",
    "    def __str__(self):\n",
    "        return 'PQ:[%s]'%(', '.join([str(i) for i in self.queue]))\n",
    "\n",
    "    def append(self, node):\n",
    "        heapq.heappush(self.queue, node)\n",
    "        \n",
    "    #def push(self,cost,node,path):\n",
    "        # TODO: finish this\n",
    "\n",
    "    def __contains__(self, key):\n",
    "        self.current = 0\n",
    "        return key in [n for v,n in self.queue]\n",
    "\n",
    "    def __eq__(self, other):\n",
    "        return self == other\n",
    "    \n",
    "    def clear(self):\n",
    "        self.queue = []\n",
    "        \n",
    "    #def has_element(self, element):\n",
    "    __next__ = next"
   ]
  },
  {
   "cell_type": "code",
   "execution_count": 535,
   "metadata": {
    "collapsed": false,
    "scrolled": true
   },
   "outputs": [
    {
     "name": "stdout",
     "output_type": "stream",
     "text": [
      "PriorityQueue tests passed\n"
     ]
    }
   ],
   "source": [
    "from search_tests import priority_queue_tests\n",
    "\n",
    "priority_queue_tests(PriorityQueue)"
   ]
  },
  {
   "cell_type": "markdown",
   "metadata": {},
   "source": [
    "##### Warm-up 2: BFS\n",
    "----------\n",
    "5 pts\n",
    "\n",
    "To get you started with handling graphs in networkx, implement and test breadth-first search over the test network. You'll do this by writing two methods: \n",
    "1. breadth_first_search_goal, which returns the goal node and the set of all nodes explored, but no path.\n",
    "2. breadth_first_search, which returns the path and the set of all nodes explored.\n",
    "\n",
    "Hint: networkx.edges() will return all edges connected to a given node."
   ]
  },
  {
   "cell_type": "code",
   "execution_count": 536,
   "metadata": {
    "collapsed": false
   },
   "outputs": [],
   "source": [
    " pathes = pickle.load(open('romania_test_paths.pickle', 'r'))"
   ]
  },
  {
   "cell_type": "code",
   "execution_count": 537,
   "metadata": {
    "collapsed": false
   },
   "outputs": [
    {
     "data": {
      "text/plain": [
       "(None, [])"
      ]
     },
     "execution_count": 537,
     "metadata": {},
     "output_type": "execute_result"
    }
   ],
   "source": [
    "pathes[('z', 'z')]\n"
   ]
  },
  {
   "cell_type": "code",
   "execution_count": 538,
   "metadata": {
    "collapsed": false
   },
   "outputs": [],
   "source": [
    "#pq.length"
   ]
  },
  {
   "cell_type": "code",
   "execution_count": 539,
   "metadata": {
    "collapsed": true
   },
   "outputs": [],
   "source": [
    "def breadth_first_search_goal(graph, start, goal):\n",
    "    \"\"\"Run a breadth-first search from start\n",
    "    to goal and return the goal as well as\n",
    "    all nodes explored.\"\"\"\n",
    "    \n",
    "    frontiers = [start]\n",
    "    explored = []\n",
    "    while frontiers:\n",
    "        current = frontiers.pop(0)\n",
    "        explored.append(current)\n",
    "        edges = graph.edges(current)\n",
    "        for i in edges:\n",
    "            if i[1]!=goal:\n",
    "                if not(i[1] in explored):\n",
    "                    frontiers.append(i[1])\n",
    "            else:\n",
    "                break\n",
    "    return goal, explored"
   ]
  },
  {
   "cell_type": "code",
   "execution_count": 540,
   "metadata": {
    "collapsed": false
   },
   "outputs": [],
   "source": [
    "def breadth_first_search(graph, start, goal):\n",
    "    \"\"\"Run a breadth-first search from start\n",
    "    to goal and return the path as well as \n",
    "    all nodes explored.\"\"\"\n",
    "    \n",
    "    path = []\n",
    "    frontiers = [start]\n",
    "    explored = []\n",
    "    parent = {}\n",
    "    flag = 0\n",
    "    while frontiers and flag==0:\n",
    "        current = frontiers.pop(0)\n",
    "        if current == goal:\n",
    "            flag = 1\n",
    "            break\n",
    "        explored.append(current)\n",
    "        edges = graph.edges(current)\n",
    "        for i in edges:\n",
    "            if i[1]!=goal:\n",
    "                if not(i[1] in explored) and not(i[1] in frontiers):\n",
    "                    parent[i[1]] = current\n",
    "                    frontiers.append(i[1])\n",
    "            else:\n",
    "                parent[i[1]] = current\n",
    "                flag=1\n",
    "                break\n",
    "    if start!=goal:\n",
    "        path.append(goal)\n",
    "    else:\n",
    "        return None, explored\n",
    "    while path[-1] != start:\n",
    "        path.append(parent[path[-1]])\n",
    "    path.reverse()\n",
    "    return path, explored"
   ]
  },
  {
   "cell_type": "code",
   "execution_count": 541,
   "metadata": {
    "collapsed": true
   },
   "outputs": [],
   "source": [
    "# This function exists to help you visually debug your code.\n",
    "# Feel free to modify it in any way you like.\n",
    "# graph should be a networkx graph\n",
    "# node_positions should be a dictionary mapping nodes to x,y coordinates\n",
    "def draw_graph(graph, node_positions={}, start=None, goal=None, explored=[], path=[]):\n",
    "\n",
    "    if not node_positions:\n",
    "        node_positions = networkx.spring_layout(graph)\n",
    "\n",
    "    networkx.draw_networkx_nodes(graph, node_positions)\n",
    "    networkx.draw_networkx_edges(graph, node_positions, style='dashed')\n",
    "    \n",
    "    networkx.draw_networkx_nodes(graph, node_positions, nodelist=explored, node_color='g') \n",
    "\n",
    "    if path:\n",
    "        edges = [(path[i], path[i+1]) for i in range(0, len(path)-1)]\n",
    "        networkx.draw_networkx_edges(graph, node_positions, edgelist=edges, edge_color='b')\n",
    "   \n",
    "    if start:\n",
    "        networkx.draw_networkx_nodes(graph, node_positions, nodelist=[start], node_color='b')\n",
    "    \n",
    "    if goal:\n",
    "        networkx.draw_networkx_nodes(graph, node_positions, nodelist=[goal], node_color='y')\n",
    "    \n",
    "    labels={}\n",
    "    for node in romania.nodes():\n",
    "        labels[node] = node\n",
    "    networkx.draw_networkx_labels(graph,node_positions,labels,font_size=16)\n",
    "    plt.plot()\n",
    "    plt.show()"
   ]
  },
  {
   "cell_type": "code",
   "execution_count": 542,
   "metadata": {
    "collapsed": false
   },
   "outputs": [
    {
     "name": "stdout",
     "output_type": "stream",
     "text": [
      "Automatic pdb calling has been turned OFF\n"
     ]
    }
   ],
   "source": [
    "%pdb off\n",
    "#path, explored = breadth_first_search(romania, 'n', 'o') \n",
    "#print path\n",
    "#print explored\n",
    "#pathes[('n', 'o')]"
   ]
  },
  {
   "cell_type": "code",
   "execution_count": 543,
   "metadata": {
    "collapsed": false
   },
   "outputs": [],
   "source": [
    "\"\"\"Testing and visualizing breadth-first search\n",
    "in the notebook.\"\"\"\n",
    "start = 'n'\n",
    "goal = 'o'\n",
    "#%debug\n",
    "#%debug --breakpoint search_tests.py:58\n",
    "#%run -d\n",
    "goal, explored = breadth_first_search_goal(romania, start, goal) \n",
    "path, explored = breadth_first_search(romania, start, goal) \n",
    "node_locations = {n: romania.node[n]['position'] for n in romania.node.keys()}\n",
    "draw_graph(romania, node_locations, start, goal, explored, path)"
   ]
  },
  {
   "cell_type": "code",
   "execution_count": 544,
   "metadata": {
    "collapsed": false
   },
   "outputs": [],
   "source": [
    "#print explored\n",
    "#print path"
   ]
  },
  {
   "cell_type": "code",
   "execution_count": 545,
   "metadata": {
    "collapsed": false
   },
   "outputs": [
    {
     "name": "stdout",
     "output_type": "stream",
     "text": [
      "BFS tests passed.\n"
     ]
    }
   ],
   "source": [
    "from search_tests import bfs_tests\n",
    "\n",
    "bfs_tests(breadth_first_search)"
   ]
  },
  {
   "cell_type": "markdown",
   "metadata": {},
   "source": [
    "Warmup 3: Uniform-cost search\n",
    "----------------------------\n",
    "10 points\n",
    "\n",
    "Implement uniform-cost search using PriorityQueue() as your frontier. From now on, PriorityQueue() should be your default frontier. \n",
    "\n",
    "uniform_cost_search() should return the same arguments as breadth-first search: the path to the goal node, the set of all nodes explored, and the total cost of the path."
   ]
  },
  {
   "cell_type": "code",
   "execution_count": 546,
   "metadata": {
    "collapsed": false
   },
   "outputs": [],
   "source": [
    "def uniform_cost_search(graph, start, goal):\n",
    "    \"\"\"Run uniform-cost search from start\n",
    "    to goal and return the path, the nodes\n",
    "    explored, and the total cost.\"\"\"\n",
    "    \n",
    "    frontiers = PriorityQueue()\n",
    "    path = []\n",
    "    explored = []\n",
    "    parent = {}\n",
    "    flag = 0\n",
    "    j=1\n",
    "    cost = 0\n",
    "    frontiers.append([0,start])\n",
    "    while frontiers and flag==0:\n",
    "        current = frontiers.pop()\n",
    "        if current[1] == goal:\n",
    "            flag = 1\n",
    "            break\n",
    "        explored.append(current[1])\n",
    "        edges = graph.edges(current[1])\n",
    "        for i in edges:\n",
    "            if i[1]!=goal:\n",
    "                if not(i[1] in explored) and not(i[1] in frontiers):\n",
    "                    parent[i[1]] = current[1]\n",
    "                    frontiers.append([j, i[1]])\n",
    "                    j+=1\n",
    "            else:\n",
    "                parent[i[1]] = current[1]\n",
    "                flag=1\n",
    "                break\n",
    "    if start!=goal:\n",
    "        path.append(goal)\n",
    "    else:\n",
    "        return None, explored, 0\n",
    "    while path[-1] != start:\n",
    "        path.append(parent[path[-1]])\n",
    "        cost += 1\n",
    "    path.reverse()\n",
    "    return path, explored, cost"
   ]
  },
  {
   "cell_type": "code",
   "execution_count": 547,
   "metadata": {
    "collapsed": false
   },
   "outputs": [
    {
     "name": "stdout",
     "output_type": "stream",
     "text": [
      "Uniform cost search tests passed\n"
     ]
    },
    {
     "data": {
      "text/plain": [
       "['z', 'a', 's', 'f', 'b', 'u', 'h']"
      ]
     },
     "execution_count": 547,
     "metadata": {},
     "output_type": "execute_result"
    }
   ],
   "source": [
    "from search_tests import ucs_tests \n",
    "ucs_tests(uniform_cost_search)\n",
    "pathes[('z', 'h')][0]"
   ]
  },
  {
   "cell_type": "markdown",
   "metadata": {},
   "source": [
    "Warmup 4: A\\* search\n",
    "------------------\n",
    "10 points\n",
    "\n",
    "Implement A\\* search using Euclidean distance as your heuristic. You'll need to implement heuristic_euclid() then pass that function to a_star() as the heuristic parameter. We provide null_heuristic() as a baseline heuristic to test against when calling a_star_tests()."
   ]
  },
  {
   "cell_type": "code",
   "execution_count": 548,
   "metadata": {
    "collapsed": false
   },
   "outputs": [
    {
     "name": "stdout",
     "output_type": "stream",
     "text": [
      "140\n",
      "(91, 492)\n"
     ]
    }
   ],
   "source": [
    "print romania.edge['a']['s']['weight']\n",
    "print romania.node['a']['position']"
   ]
  },
  {
   "cell_type": "code",
   "execution_count": 549,
   "metadata": {
    "collapsed": true
   },
   "outputs": [],
   "source": [
    "def null_heuristic(graph, u, v, goal):\n",
    "    \"\"\"Return 0 for all nodes.\"\"\"\n",
    "    return 0"
   ]
  },
  {
   "cell_type": "code",
   "execution_count": 550,
   "metadata": {
    "collapsed": true
   },
   "outputs": [],
   "source": [
    "import numpy \n",
    "def heuristic_euclid(graph, u, v, goal):\n",
    "    \"\"\"Return the Euclidean distance from\n",
    "    the node to the goal. u is current node,\n",
    "    v is node under consideration.\"\"\"\n",
    "    \n",
    "    currPos = numpy.array(graph.node[u]['position'])\n",
    "    nextPos = numpy.array(graph.node[v]['position'])\n",
    "    goalPos = numpy.array(graph.node[goal]['position'])\n",
    "    \n",
    "    #costU2Goal = numpy.linalg.norm(currPos, goalPos)\n",
    "    costU2V = graph.edge[u][v]['edge']\n",
    "    costV2Goal = numpy.linalg.norm(nextPos-goalPos)\n",
    "    \n",
    "    return costU2V+costV2Goal\n",
    "    #raise NotImplementedError"
   ]
  },
  {
   "cell_type": "code",
   "execution_count": 551,
   "metadata": {
    "collapsed": true
   },
   "outputs": [],
   "source": [
    "def a_star(graph, start, goal, heuristic):\n",
    "    \"\"\"Run A* search from the start to\n",
    "    goal using the specified heuristic\n",
    "    function, and return the final path\n",
    "    and the nodes explored.\"\"\"\n",
    "    \n",
    "    frontiers = PriorityQueue()\n",
    "    path = []\n",
    "    explored = []\n",
    "    parent = {}\n",
    "    cost = {}\n",
    "    flag = 0\n",
    "    frontiers.append([0,start])\n",
    "    while frontiers and flag==0:\n",
    "        current = frontiers.pop()\n",
    "        print [\"current - \",current[1]]\n",
    "        if current[1] == goal:\n",
    "            flag = 1\n",
    "            break\n",
    "        explored.append(current[1])\n",
    "        edges = graph.edges(current[1])\n",
    "        for i in edges:\n",
    "            if i[1]!=goal:\n",
    "                if not(i[1] in explored) and (i[1] in frontiers):\n",
    "                    parent[i[1]] = current[1]\n",
    "                    cost[i[1]] = heuristic(graph,current[1],i[1],goal)\n",
    "                    frontiers.append([cost[i[1]], i[1]])\n",
    "                else:\n",
    "                    newCost = heuristic(graph,current[1],i[1],goal)\n",
    "                    if i[1] in cost:\n",
    "                        if newCost < cost[i[1]]:\n",
    "                            cost[i[1]] = newCost\n",
    "                            parent[i[1]] = current[1]\n",
    "                    else:\n",
    "                        cost[i[1]] = newCost\n",
    "            else:\n",
    "                parent[i[1]] = current[1]\n",
    "                cost[i[1]] = heuristic(graph,current[1],i[1],goal)\n",
    "                flag=1\n",
    "                break\n",
    "    if start!=goal:\n",
    "        path.append(goal)\n",
    "    else:\n",
    "        return None, explored, 0\n",
    "    while path[-1] != start:\n",
    "        path.append(parent[path[-1]])\n",
    "    path.reverse()\n",
    "    return path, explored"
   ]
  },
  {
   "cell_type": "code",
   "execution_count": 552,
   "metadata": {
    "collapsed": false,
    "scrolled": true
   },
   "outputs": [
    {
     "name": "stdout",
     "output_type": "stream",
     "text": [
      "['current - ', 'c']\n"
     ]
    },
    {
     "ename": "IndexError",
     "evalue": "index out of range",
     "output_type": "error",
     "traceback": [
      "\u001b[1;31m---------------------------------------------------------------------------\u001b[0m",
      "\u001b[1;31mIndexError\u001b[0m                                Traceback (most recent call last)",
      "\u001b[1;32m<ipython-input-552-7307d6614a32>\u001b[0m in \u001b[0;36m<module>\u001b[1;34m()\u001b[0m\n\u001b[0;32m      2\u001b[0m \u001b[1;33m\u001b[0m\u001b[0m\n\u001b[0;32m      3\u001b[0m \u001b[1;31m#%debug\u001b[0m\u001b[1;33m\u001b[0m\u001b[1;33m\u001b[0m\u001b[0m\n\u001b[1;32m----> 4\u001b[1;33m \u001b[0ma_star_tests\u001b[0m\u001b[1;33m(\u001b[0m\u001b[0ma_star\u001b[0m\u001b[1;33m,\u001b[0m \u001b[0mnull_heuristic\u001b[0m\u001b[1;33m,\u001b[0m \u001b[0mheuristic_euclid\u001b[0m\u001b[1;33m)\u001b[0m\u001b[1;33m\u001b[0m\u001b[0m\n\u001b[0m\u001b[0;32m      5\u001b[0m \u001b[0mpathes\u001b[0m\u001b[1;33m[\u001b[0m\u001b[1;33m(\u001b[0m\u001b[1;34m'z'\u001b[0m\u001b[1;33m,\u001b[0m \u001b[1;34m'h'\u001b[0m\u001b[1;33m)\u001b[0m\u001b[1;33m]\u001b[0m\u001b[1;33m\u001b[0m\u001b[0m\n",
      "\u001b[1;32mD:\\Dropbox\\PhD\\CourseWork\\Fall2015\\AI\\6601_assignment-2\\search_tests.pyc\u001b[0m in \u001b[0;36ma_star_tests\u001b[1;34m(a_star, null_heuristic, euclidean_distance)\u001b[0m\n\u001b[0;32m    221\u001b[0m         \u001b[0mright_path\u001b[0m\u001b[1;33m,\u001b[0m \u001b[0mright_closed\u001b[0m \u001b[1;33m=\u001b[0m \u001b[0mvalue\u001b[0m\u001b[1;33m\u001b[0m\u001b[0m\n\u001b[0;32m    222\u001b[0m \u001b[1;33m\u001b[0m\u001b[0m\n\u001b[1;32m--> 223\u001b[1;33m         \u001b[0mpath\u001b[0m\u001b[1;33m,\u001b[0m \u001b[0mclosed\u001b[0m \u001b[1;33m=\u001b[0m \u001b[0ma_star\u001b[0m\u001b[1;33m(\u001b[0m\u001b[0mromania\u001b[0m\u001b[1;33m,\u001b[0m \u001b[0mstart\u001b[0m\u001b[1;33m,\u001b[0m \u001b[0mgoal\u001b[0m\u001b[1;33m,\u001b[0m \u001b[0mnull_heuristic\u001b[0m\u001b[1;33m)\u001b[0m\u001b[1;33m\u001b[0m\u001b[0m\n\u001b[0m\u001b[0;32m    224\u001b[0m \u001b[1;33m\u001b[0m\u001b[0m\n\u001b[0;32m    225\u001b[0m         \u001b[0mpath_is_valid\u001b[0m \u001b[1;33m=\u001b[0m \u001b[0mis_path_correct\u001b[0m\u001b[1;33m(\u001b[0m\u001b[0mromania\u001b[0m\u001b[1;33m,\u001b[0m \u001b[0mstart\u001b[0m\u001b[1;33m,\u001b[0m \u001b[0mgoal\u001b[0m\u001b[1;33m,\u001b[0m \u001b[0mpath\u001b[0m\u001b[1;33m)\u001b[0m\u001b[1;33m\u001b[0m\u001b[0m\n",
      "\u001b[1;32m<ipython-input-551-ceb20b966cba>\u001b[0m in \u001b[0;36ma_star\u001b[1;34m(graph, start, goal, heuristic)\u001b[0m\n\u001b[0;32m     13\u001b[0m     \u001b[0mfrontiers\u001b[0m\u001b[1;33m.\u001b[0m\u001b[0mappend\u001b[0m\u001b[1;33m(\u001b[0m\u001b[1;33m[\u001b[0m\u001b[1;36m0\u001b[0m\u001b[1;33m,\u001b[0m\u001b[0mstart\u001b[0m\u001b[1;33m]\u001b[0m\u001b[1;33m)\u001b[0m\u001b[1;33m\u001b[0m\u001b[0m\n\u001b[0;32m     14\u001b[0m     \u001b[1;32mwhile\u001b[0m \u001b[0mfrontiers\u001b[0m \u001b[1;32mand\u001b[0m \u001b[0mflag\u001b[0m\u001b[1;33m==\u001b[0m\u001b[1;36m0\u001b[0m\u001b[1;33m:\u001b[0m\u001b[1;33m\u001b[0m\u001b[0m\n\u001b[1;32m---> 15\u001b[1;33m         \u001b[0mcurrent\u001b[0m \u001b[1;33m=\u001b[0m \u001b[0mfrontiers\u001b[0m\u001b[1;33m.\u001b[0m\u001b[0mpop\u001b[0m\u001b[1;33m(\u001b[0m\u001b[1;33m)\u001b[0m\u001b[1;33m\u001b[0m\u001b[0m\n\u001b[0m\u001b[0;32m     16\u001b[0m         \u001b[1;32mprint\u001b[0m \u001b[1;33m[\u001b[0m\u001b[1;34m\"current - \"\u001b[0m\u001b[1;33m,\u001b[0m\u001b[0mcurrent\u001b[0m\u001b[1;33m[\u001b[0m\u001b[1;36m1\u001b[0m\u001b[1;33m]\u001b[0m\u001b[1;33m]\u001b[0m\u001b[1;33m\u001b[0m\u001b[0m\n\u001b[0;32m     17\u001b[0m         \u001b[1;32mif\u001b[0m \u001b[0mcurrent\u001b[0m\u001b[1;33m[\u001b[0m\u001b[1;36m1\u001b[0m\u001b[1;33m]\u001b[0m \u001b[1;33m==\u001b[0m \u001b[0mgoal\u001b[0m\u001b[1;33m:\u001b[0m\u001b[1;33m\u001b[0m\u001b[0m\n",
      "\u001b[1;32m<ipython-input-534-aca180d254b8>\u001b[0m in \u001b[0;36mpop\u001b[1;34m(self)\u001b[0m\n\u001b[0;32m     22\u001b[0m \u001b[1;33m\u001b[0m\u001b[0m\n\u001b[0;32m     23\u001b[0m     \u001b[1;32mdef\u001b[0m \u001b[0mpop\u001b[0m\u001b[1;33m(\u001b[0m\u001b[0mself\u001b[0m\u001b[1;33m)\u001b[0m\u001b[1;33m:\u001b[0m\u001b[1;33m\u001b[0m\u001b[0m\n\u001b[1;32m---> 24\u001b[1;33m         \u001b[1;32mreturn\u001b[0m \u001b[0mheapq\u001b[0m\u001b[1;33m.\u001b[0m\u001b[0mheappop\u001b[0m\u001b[1;33m(\u001b[0m\u001b[0mself\u001b[0m\u001b[1;33m.\u001b[0m\u001b[0mqueue\u001b[0m\u001b[1;33m)\u001b[0m\u001b[1;33m\u001b[0m\u001b[0m\n\u001b[0m\u001b[0;32m     25\u001b[0m \u001b[1;33m\u001b[0m\u001b[0m\n\u001b[0;32m     26\u001b[0m     \u001b[1;32mdef\u001b[0m \u001b[0m__iter__\u001b[0m\u001b[1;33m(\u001b[0m\u001b[0mself\u001b[0m\u001b[1;33m)\u001b[0m\u001b[1;33m:\u001b[0m\u001b[1;33m\u001b[0m\u001b[0m\n",
      "\u001b[1;31mIndexError\u001b[0m: index out of range"
     ]
    }
   ],
   "source": [
    "from search_tests import a_star_tests\n",
    "\n",
    "#%debug\n",
    "a_star_tests(a_star, null_heuristic, heuristic_euclid)\n",
    "pathes[('z', 'h')]"
   ]
  },
  {
   "cell_type": "markdown",
   "metadata": {},
   "source": [
    "Exercises\n",
    "-------\n",
    "\n",
    "The following exercises will require you to implement several kinds of bidirectional and tridirectional searches.\n",
    "\n",
    "For the following exercises, we will be using Atlanta [OpenStreetMap](wiki.openstreetmap.org/) data for our searches. If you want to run tests in iPython notebook using this data (rather than just calling the tests in search_tests), you'll need to load the data from file in the cell below."
   ]
  },
  {
   "cell_type": "code",
   "execution_count": null,
   "metadata": {
    "collapsed": false
   },
   "outputs": [],
   "source": [
    "\"\"\"Loading Atlanta map data.\"\"\"\n",
    "atlanta = pickle.load(open('atlanta_osm.pickle','r'))"
   ]
  },
  {
   "cell_type": "markdown",
   "metadata": {},
   "source": [
    "Visualizing search results\n",
    "---\n",
    "\n",
    "When using a geographic network, you may want to visualize your searches. We can do this by converting the search results to a [GeoJSON](https://en.wikipedia.org/wiki/GeoJSON) file which we then visualize on [Gist](https://gist.github.com/) by [importing](https://github.com/blog/1576-gist-meets-geojson) the file.\n",
    "\n",
    "We provide a method for doing this in visualize_graph.py called plot_search(), which takes as parameters the graph, the name of the file to write, the nodes on the path, and the set of all nodes explored. This produces a GeoJSON file named as specified, which you can upload to Gist to visualize the search path and explored nodes."
   ]
  },
  {
   "cell_type": "code",
   "execution_count": null,
   "metadata": {
    "collapsed": true
   },
   "outputs": [],
   "source": [
    "\"\"\"Example of how to visualize search results\n",
    "with two sample nodes in Atlanta.\"\"\"\n",
    "from visualize_graph import plot_search\n",
    "path, explored = bidirectional_ucs(atlanta, '69244359', '557989279')\n",
    "plot_search(graph, 'atlanta_search.json', path, explored)\n",
    "# then upload 'atlanta_search.json' to Gist"
   ]
  },
  {
   "cell_type": "markdown",
   "metadata": {},
   "source": [
    "Exercise 1: Bidirectional uniform-cost search\n",
    "-------\n",
    "15 points\n",
    "\n",
    "Implement bidirectional uniform-cost search. Remember that this requires starting your search at both the start and end states.\n",
    "\n",
    "This function will return the goal, the set of explored nodes from the start node's search, and the set of explored nodes from the goal node's search."
   ]
  },
  {
   "cell_type": "code",
   "execution_count": null,
   "metadata": {
    "collapsed": true
   },
   "outputs": [],
   "source": [
    "def bidirectional_ucs(graph, start, goal):\n",
    "    \"\"\"Run bidirectional uniform-cost search\n",
    "    between start and goal, and return the path, \n",
    "    the nodes explored from start-initial \n",
    "    search, and the nodes explored from the \n",
    "    goal-initial search.\"\"\"\n",
    "    # TODO: finish this function\n",
    "    raise NotImplementedError\n",
    "    #return path, (start_explored, goal_explored)"
   ]
  },
  {
   "cell_type": "code",
   "execution_count": null,
   "metadata": {
    "collapsed": true
   },
   "outputs": [],
   "source": [
    "from search_test import bidirectional_tests\n",
    "\n",
    "bidirectional_tests(bidirectional_ucs)"
   ]
  },
  {
   "cell_type": "markdown",
   "metadata": {},
   "source": [
    "Exercise 2: Bidirectional A\\* search\n",
    "-------\n",
    "20 points\n",
    "\n",
    "Implement bidirectional A\\* search. Remember that you need to calculate a heuristic for both the start-to-goal search and the goal-to-start search.\n",
    "\n",
    "This function will return the final search path, the set of nodes explored during the start-to-goal search, and the set of nodes explored during the goal-to-start search."
   ]
  },
  {
   "cell_type": "code",
   "execution_count": null,
   "metadata": {
    "collapsed": true
   },
   "outputs": [],
   "source": [
    "def bidirectional_a_star(graph, start, goal):\n",
    "    \"\"\"Run bidirectional A* search between\n",
    "    start and goal, and return the path from\n",
    "    start to goal, the nodes explored from\n",
    "    start-initial search, and the nodes explored\n",
    "    from the goal-initial search.\"\"\"\n",
    "    # TODO: finish this function\n",
    "    raise NotImplementedError\n",
    "    #return path, (start_explored, goal_explored)"
   ]
  },
  {
   "cell_type": "markdown",
   "metadata": {},
   "source": [
    "Exercise 3: Tridirectional search\n",
    "------\n",
    "20 points\n",
    "\n",
    "Implement tridirectional search in the naive way: starting from each goal node, perform a uniform-cost search and keep expanding until two of the three searches meet.\n",
    "\n",
    "This will return the path computed and the set of all nodes explored."
   ]
  },
  {
   "cell_type": "code",
   "execution_count": null,
   "metadata": {
    "collapsed": true
   },
   "outputs": [],
   "source": [
    "def tridirectional_search(graph, goals):\n",
    "    \"\"\"Run tridirectional uniform-cost search\n",
    "    between the goals, and return the path \n",
    "    and the nodes explored.\"\"\"\n",
    "    # TODO: finish this function\n",
    "    raise NotImplementedError\n",
    "    #return path, nodes_explored"
   ]
  },
  {
   "cell_type": "markdown",
   "metadata": {},
   "source": [
    "Exercise 4: Tridirectional search\n",
    "------\n",
    "15 points\n",
    "\n",
    "This is the heart of the assignment. Implement tridirectional search in such a way as to consistently improve on the performance of your previous implementation. This means consistently exploring fewer nodes during your search in order to reduce runtime.\n",
    "\n",
    "The specifics are up to you, but we have a few suggestions:\n",
    "- Tridirectional A*\n",
    "- choosing landmarks and precomputing reach values\n",
    "- ATL (A\\*, landmarks, and triangle-inequality)\n",
    "- shortcuts (skipping nodes with low reach values)\n",
    "\n",
    "This function will return the path computed and the set of all nodes explored."
   ]
  },
  {
   "cell_type": "code",
   "execution_count": null,
   "metadata": {
    "collapsed": true
   },
   "outputs": [],
   "source": [
    "def tridirectional_search_advanced(graph, goals):\n",
    "    \"\"\"Run an improved tridirectional search between\n",
    "    goals, and return the path and nodes explored.\"\"\"\n",
    "    # TODO: finish this function\n",
    "    raise NotImplementedError\n",
    "    #return path, nodes_explored"
   ]
  },
  {
   "cell_type": "markdown",
   "metadata": {},
   "source": [
    "Race!\n",
    "---\n",
    "Here's your chance to show us your best stuff. This part is mandatory if you want to compete in the race for extra credit. Implement custom_search() using whatever strategy you'd like. Remember that 'goals' will be a list of the three nodes between which you should route."
   ]
  },
  {
   "cell_type": "code",
   "execution_count": null,
   "metadata": {
    "collapsed": true
   },
   "outputs": [],
   "source": [
    "def custom_search(graph, goals):\n",
    "    \"\"\"Run your best tridirectional search between\n",
    "    goals, and return the path and nodes explored.\"\"\"\n",
    "    raise NotImplementedError\n",
    "    # return path, nodes_explored"
   ]
  }
 ],
 "metadata": {
  "kernelspec": {
   "display_name": "Python 2",
   "language": "python",
   "name": "python2"
  },
  "language_info": {
   "codemirror_mode": {
    "name": "ipython",
    "version": 2
   },
   "file_extension": ".py",
   "mimetype": "text/x-python",
   "name": "python",
   "nbconvert_exporter": "python",
   "pygments_lexer": "ipython2",
   "version": "2.7.10"
  }
 },
 "nbformat": 4,
 "nbformat_minor": 0
}
