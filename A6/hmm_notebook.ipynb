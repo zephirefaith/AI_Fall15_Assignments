{
 "cells": [
  {
   "cell_type": "markdown",
   "metadata": {},
   "source": [
    "Part 1: The Swiss Alp Horn (60 pts)\n",
    "-------\n",
    "\n",
    "    Given a model of a system's transition and emission probabilities and a series of evidence observations, what is the most likely sequence of states that generated the observed evidence?\n",
    "\n",
    "In a recent trip to Switzerland, you discover the Swiss Alp Horn - used for remote villages to\n",
    "communicate between the different Alps. This large horn is difficult to play for beginners, and you\n",
    "discover you can make about 4 notes on it - badly.\n",
    "\n",
    "You don't feel so bad - an expert alp horn player isn't very reliable either. However, by playing different\n",
    "progression of tones, different messsages can be conveyed across the Swiss valleys. For example, a\n",
    "wavering high and low series of notes indicates danger of avalanche. However, a more drawn-out tune\n",
    "which starts high and ends low indicates danger of invasion. For simplicity, assume that the horn is expected to make one of three sounds: high, mid and low.\n",
    "\n",
    "You befriend a villager, whose job it is to stay up all night and listen for these faint\n",
    "sounds - alerting the village whenever there is danger. However, the villager is not very reliable\n",
    "because he keeps falling asleep. You decide to make a computer program to listen for the alerts and\n",
    "automatically decide which alarm to give depending on which alert is heard.\n",
    "\n",
    "After much trial and error, you determine that the HMMs below are appropriate to the task. The output\n",
    "distributions are discrete, indicating the four separate notes that are supposed to be played. We assume\n",
    "the prior probabilities of avalanche and invasion are identical."
   ]
  },
  {
   "cell_type": "markdown",
   "metadata": {},
   "source": [
    "The models for each possible message look something like:\n",
    "\n",
    "<img src=\"files/avalanche.png\", width=\"400\", height=\"300\">\n",
    "\n",
    "<img src=\"files/invasion.png\", width=\"400\", height=\"300\">"
   ]
  },
  {
   "cell_type": "markdown",
   "metadata": {},
   "source": [
    "The following is the transition table for an avalanche warning:\n",
    "\n",
    "\n",
    "| Old State | New State |\n",
    "| ------------- |:-------------:|\n",
    "| High | High: 0.6, Low: 0.4, End: 0  |\n",
    "| Low  | High: 0.4, Low: 0.5, End: 0.1|\n",
    "\n",
    "\n",
    "The following is the emission table for an avalanche warning:\n",
    "\n",
    "| System State     | Note     | Emission Probability |\n",
    "| -------------    |:-------------:|\n",
    "| High             |   C        |       0.1         |\n",
    "|              |   C#       |       0.1         |\n",
    "|              |   D        |       0.4         |\n",
    "|              |   D#       |       0.4         |\n",
    "| Low             |   C        |       0.4         |\n",
    "|              |   C#       |       0.4         |\n",
    "|              |   D        |       0.1         |\n",
    "|              |   D#       |       0.1         |\n",
    "\n",
    "\n",
    "\n",
    "The following is the transition table for an invasion warning:\n",
    "\n",
    "| Old State | New State |\n",
    "| ------------- |:-------------:|\n",
    "| High | High: 0.6, Mid: 0.4 Low: 0,   End: 0  |\n",
    "| Mid  | High: 0,   Mid: 0.7 Low: 0.3, End: 0  |\n",
    "| Low  | High: 0,   Mid: 0   Low: 0.6, End: 0.4|\n",
    "\n",
    "\n",
    "The following is the emission table for an invasion warning:\n",
    "\n",
    "| System State     | Note     | Emission Probability |\n",
    "| -------------    |:-------------:|\n",
    "| High             |   C        |       0.1         |\n",
    "|              |   C#       |       0.1         |\n",
    "|              |   D        |       0.2         |\n",
    "|              |   D#       |       0.6         |\n",
    "| Mid             |   C        |       0.1         |\n",
    "|              |   C#       |       0.1         |\n",
    "|              |   D        |       0.7         |\n",
    "|              |   D#       |       0.1         |\n",
    "| Low             |   C        |       0.6         |\n",
    "|              |   C#       |       0.2         |\n",
    "|              |   D        |       0.1         |\n",
    "|              |   D#       |       0.1         |"
   ]
  },
  {
   "cell_type": "markdown",
   "metadata": {},
   "source": [
    "1a) By hand, determine the state sequence with the highest probability of generating the note sequence\n",
    "D# D C# C C# D D# D C# C for each of the HMMs. This will require filling out a probability trellis for each event. According to your calculation, was the alert for avalanche or invasion?"
   ]
  },
  {
   "cell_type": "code",
   "execution_count": 133,
   "metadata": {
    "collapsed": true
   },
   "outputs": [],
   "source": [
    "def part_1_a(): #(20 pts)\n",
    "    # TODO: Fill in below !\n",
    "    \n",
    "    # Fill in the matrix below with state probabilities at each time step, P(High) being the value at the 0th index \n",
    "    part_a_avalanche_trellis = [[0.4,0], [0.096,0.016], [0.00576,0.01536], [0.0006,0.003], [0.00012,0.0006], [0.000096,0.00003], [0.000023,0.0000038], [0.0000055,0.00000092], [0.00000033,0.00000077], [0.00000003,0.00000015]]\n",
    "\n",
    "    # Fill in the matrix below with state probabilities at each time step, P(High) being the value at the 0th index,\n",
    "    # P(Mid) being the value at the 1st index and P(Low) being the value at the 2nd index\n",
    "    part_a_invasion_trellis = [[0.6,0,0], [0.072,0.168,0], [0.0042,0.012,0.01], [0.00025,0.00084,0.0036], [0.000015,0.000059,0.00043], [0.0000018,0.000029,0.000026], [0.00000065,0.0000020,0.0000016], [0.000000078,0.00000098,0.000000096], [0.0000000047,0.000000069,0.000000059], [0.00000000028,0.0000000048,0.000000021]]\n",
    "\n",
    "    part_a_most_likely_state_sequence = [0,0,1,1,1,0,0,0,1,1]\n",
    "\n",
    "    part_a_warning = 'avalanche'\n",
    "    \n",
    "    return part_a_invasion_trellis, part_a_avalanche_trellis, part_a_most_likely_state_sequence, part_a_warning"
   ]
  },
  {
   "cell_type": "markdown",
   "metadata": {},
   "source": [
    "1b) By hand, determine the state sequence with the highest probability of generating the note sequence\n",
    "D# D# D# D D D C# C C for each of the HMMs. According to your calculation, was the alert for\n",
    "avalanche or invasion?"
   ]
  },
  {
   "cell_type": "code",
   "execution_count": 134,
   "metadata": {
    "collapsed": true
   },
   "outputs": [],
   "source": [
    "def part_1_b(): #(20 pts)\n",
    "    #TODO: Fill in below !\n",
    "    \n",
    "    # Fill in the matrix below with state probabilities at each time step, P(High) being the value at the 0th index \n",
    "    part_b_avalanche_trellis = [[0.4,0], [0.096,0.016], [0.023,0.0038], [0.0055,0.00092], [0.0013,0.00022], [0.00032,0.000053], [0.000019,0.00005], [0.000002,0.00001], [0.0000004,0.000002]]\n",
    "\n",
    "    # Fill in the matrix below with state probabilities at each time step, P(High) being the value at the 0th index,\n",
    "    # P(Mid) being the value at the 1st index and P(Low) being the value at the 2nd index\n",
    "    part_b_invasion_trellis = [[0.6,0,0], [0.216,0.024,0], [0.078,0.0086,0.00072], [0.0094,0.019,0.00026], [0.0011,0.0093,0.00057], [0.00013,0.0046,0.00028], [0.0000078,0.00032,0.00055], [0.00000047,0.000022,0.00055], [0.000000028,0.0000015,0.000071]]\n",
    "\n",
    "    part_b_most_likely_state_sequence = [0,0,0,1,1,1,2,2,2]\n",
    "\n",
    "    part_b_warning = 'invasion' \n",
    "    \n",
    "    return part_b_invasion_trellis, part_b_avalanche_trellis, part_b_most_likely_state_sequence, part_b_warning"
   ]
  },
  {
   "cell_type": "markdown",
   "metadata": {},
   "source": [
    "1c) Implement the Viterbi algorithm, making sure that the conclusions from your hand calculations match your program output. The following cell contains examples of the format for your inputs - you'll need to create tables for both avalanche and invasion probabilities in order to test your hand calculation. We will provide tests for you - stay tuned!"
   ]
  },
  {
   "cell_type": "markdown",
   "metadata": {},
   "source": [
    "**Hint** In order to reconstruct your most-likely path after running Viterbi, you'll need to keep track of a back-pointer at each state, which directs you that state's most-likely predecessor."
   ]
  },
  {
   "cell_type": "code",
   "execution_count": 135,
   "metadata": {
    "collapsed": false
   },
   "outputs": [],
   "source": [
    "avalanche_states = ('High', 'Low', 'End')\n",
    "avalanche_evidence_variables = ['Note']\n",
    "\n",
    "avalanche_transition_probs = {\n",
    "    'High': {'High': 0.6, 'Low': 0.4, 'End':0},\n",
    "    'Low':  {'High': 0.4, 'Low': 0.5, 'End':0.1},\n",
    "    'End':  {'High': 0,   'Low': 0,   'End':1}\n",
    "}\n",
    "\n",
    "avalanche_emission_probs = {\n",
    "    'High' : {'Note':[0.1, 0.1, 0.4, 0.4]},\n",
    "    'Low'  : {'Note':[0.4, 0.4, 0.1, 0.1]},\n",
    "    'End'  : {'Note':[1e-4, 1e-4, 1e-4, 1e-4]}\n",
    "}\n",
    "\n",
    "prior = {'High':1, 'Low':0.0, 'End': 0.0}"
   ]
  },
  {
   "cell_type": "code",
   "execution_count": 136,
   "metadata": {
    "collapsed": false
   },
   "outputs": [],
   "source": [
    "def viterbi(evidence_vector, prior, states, evidence_variables, transition_probs, emission_probs):\n",
    "    \"\"\"\n",
    "        20 points\n",
    "        \n",
    "        This method takes as input the following:\n",
    "    \n",
    "        evidence_vector: A list of dictionaries mapping evidence variables to their values\n",
    "        \n",
    "        prior: A dictionary corresponding to the prior distribution over states\n",
    "        \n",
    "        states: A list of all possible system states\n",
    "        \n",
    "        evidence_variables: A list of all valid evidence variables\n",
    "        \n",
    "        transition_probs: A dictionary mapping states onto dictionaries mapping states onto probabilities\n",
    "        \n",
    "        emission_probs: A dictionary mapping states onto dictionaries mapping evidence variables onto \n",
    "                    probabilities for their possible values\n",
    "                    \n",
    "                    \n",
    "        This method returns:\n",
    "            A list of states that is the most likely sequence of states explaining the evidence\n",
    "        \n",
    "    \"\"\"\n",
    "    path = [{}];\n",
    "    v_t_k = [{}];\n",
    "    \n",
    "    #initialize for t=0\n",
    "    for state_n in states:\n",
    "        v_t_k[0][state_n] = prior[state_n]\n",
    "        for evidence in evidence_variables:\n",
    "            v_t_k[0][state_n] = v_t_k[0][state_n]*emission_probs[state_n][evidence][evidence_vector[0][evidence]]\n",
    "        path[0][state_n] = state_n\n",
    "            \n",
    "    #calculate for each observation\n",
    "    for t in range(1,len(evidence_vector)):\n",
    "        v_t_k.append({})\n",
    "        path.append({})\n",
    "        \n",
    "        for state_n in states:\n",
    "            v_t_k[t][state_n] = 0\n",
    "            for each_state in states:\n",
    "                temp = v_t_k[t-1][each_state]*transition_probs[each_state][state_n]\n",
    "                for evidence in evidence_variables:\n",
    "                    temp = temp*emission_probs[state_n][evidence][evidence_vector[t][evidence]]\n",
    "                    \n",
    "                if temp>v_t_k[t][state_n]:\n",
    "                    v_t_k[t][state_n] = temp\n",
    "                    path[t][state_n] = each_state\n",
    "                \n",
    "    #return the most likely path\n",
    "    (_,final_state) = max((v_t_k[len(evidence_vector)-1][state_n], state_n) for state_n in states);\n",
    "\n",
    "    #store the likely path for return\n",
    "    most_likely_path = [final_state];\n",
    "    for index in reversed(range(1,len(evidence_vector))):\n",
    "        most_likely_path.insert(0,path[index][final_state])\n",
    "        final_state = path[index][final_state]\n",
    "    return most_likely_path\n"
   ]
  },
  {
   "cell_type": "code",
   "execution_count": 137,
   "metadata": {
    "collapsed": false
   },
   "outputs": [
    {
     "name": "stdout",
     "output_type": "stream",
     "text": [
      "['High', 'Mid', 'Mid', 'Mid', 'Mid', 'Mid', 'Mid', 'Mid', 'Low', 'Low']\n",
      "['High', 'High', 'Low', 'Low', 'Low', 'High', 'High', 'High', 'Low', 'Low']\n",
      "['High', 'High', 'High', 'Mid', 'Mid', 'Mid', 'Low', 'Low', 'Low']\n",
      "['High', 'High', 'High', 'High', 'High', 'High', 'Low', 'Low', 'Low']\n"
     ]
    }
   ],
   "source": [
    "invasion_states = ('High', 'Mid', 'Low', 'End')\n",
    "invasion_evidence_variables = ['Note']\n",
    "\n",
    "\n",
    "invasion_transition_probs = {\n",
    "    'High': {'High': 0.6, 'Mid':0.4 , 'Low': 0, 'End':0},\n",
    "    'Mid' : {'High': 0,  'Mid':0.7, 'Low': 0.3, 'End': 0  },\n",
    "    'Low':  {'High': 0,   'Mid': 0,    'Low': 0.6, 'End':0.4},\n",
    "    'End':  {'High': 0,   'Mid': 0,    'Low': 0,   'End':1}\n",
    "}\n",
    "\n",
    "invasion_emission_probs = {\n",
    "    'High' : {'Note':[0.1, 0.1, 0.2, 0.6]},\n",
    "    'Mid'  : {'Note':[0.1, 0.1, 0.7, 0.1]},\n",
    "    'Low'  : {'Note':[0.6, 0.2, 0.1, 0.1]},\n",
    "    'End'  : {'Note':[1e-4, 1e-4, 1e-4, 1e-4]}\n",
    "}\n",
    "\n",
    "invasion_prior = {'High':1, 'Mid':0.0, 'Low':0.0, 'End': 0.0}\n",
    "\n",
    "\n",
    "# D# D C# C C# D D# D C# C\n",
    "evidence_sequence_1 = [{'Note':3}, {'Note':2}, {'Note':1},{'Note':0},{'Note':1},{'Note':2},{'Note':3},{'Note':2},{'Note':1},{'Note':0}]\n",
    "\n",
    "invasion_state_sequence_1 = viterbi(evidence_sequence_1, invasion_prior, invasion_states, invasion_evidence_variables, invasion_transition_probs, invasion_emission_probs)\n",
    "avalanche_state_sequence_1 = viterbi(evidence_sequence_1, prior, avalanche_states, avalanche_evidence_variables, avalanche_transition_probs, avalanche_emission_probs )\n",
    "\n",
    "# D# D# D# D D D C# C C\n",
    "evidence_sequence_2 = [{'Note':3}, {'Note':3}, {'Note':3},{'Note':2},{'Note':2},{'Note':2},{'Note':1},{'Note':0},{'Note':0}]\n",
    "\n",
    "invasion_state_sequence_2 = viterbi(evidence_sequence_2, invasion_prior, invasion_states, invasion_evidence_variables, invasion_transition_probs, invasion_emission_probs)\n",
    "avalanche_state_sequence_2 = viterbi(evidence_sequence_2, prior, avalanche_states, avalanche_evidence_variables, avalanche_transition_probs, avalanche_emission_probs )\n",
    "\n",
    "print(invasion_state_sequence_1)\n",
    "print(avalanche_state_sequence_1)\n",
    "print(invasion_state_sequence_2)\n",
    "print(avalanche_state_sequence_2)\n"
   ]
  },
  {
   "cell_type": "markdown",
   "metadata": {},
   "source": [
    "Part 2: Umbrella World & Forward-Backward (40 pts)\n",
    "--------\n",
    "    \n",
    "    Given a model of a system's transition and emission probabilities, and a series of evidence observations, what is the probability that the system is in a given state at an instant in time?\n",
    "\n",
    "Consider the following variation on the Umbrella World system from Russell & Norvig Ch 15. To refresh your memory: suppose we work in a windowless building all day and want to know what the weather is like outside from one day to the next. We cannot directly observe whether it is raining, but we can see whether our coworker is carrying an umbrella or not and whether or not she is wearing a coat. For simplicity, assume that there are two kinds of weather: rain and sunny.\n",
    "\n",
    "The normalized state transition probabilities are specified as follows. These are the probabilities of moving from one weather state to the next.\n",
    "\n",
    "\n",
    "| Old State | New State |\n",
    "| ------------- |:-------------:|\n",
    "| RAIN | RAIN: $\\frac{2}{3}$, SUNNY: $\\frac{1}{3}$|\n",
    "| SUNNY| RAIN: $\\frac{1}{2}$, SUNNY: $\\frac{1}{2}$ |\n",
    "\n",
    "The emission probabilities are specified as follows. These are the probabilities of observing a particular evidence variable, given the state of the system.\n",
    "\n",
    "\n",
    "| System State     | Variable | Value | Emission Probability |\n",
    "| -------------    |:-------------:|\n",
    "| RAIN  | Umbrella | True  | $\\frac{3}{4}$|\n",
    "|   | Umbrella | False | $\\frac{1}{4}$|\n",
    "|   | Coat     | True  | $\\frac{2}{3}$|\n",
    "|   | Coat     | False | $\\frac{1}{3}$|\n",
    "| SUNNY | Umbrella | True  | $\\frac{1}{4}$|\n",
    "|  | Umbrella | False | $\\frac{3}{4}$|\n",
    "|  | Coat     | True  | $\\frac{1}{2}$|\n",
    "|  | Coat     | False | $\\frac{1}{2}$|\n",
    "\n",
    "\n",
    "Below is a representation of the system in python, in the same format as the Swiss Horn data. Note the [F,T] order of the emission probabilities."
   ]
  },
  {
   "cell_type": "code",
   "execution_count": 138,
   "metadata": {
    "collapsed": true
   },
   "outputs": [],
   "source": [
    "states = ('Rainy', 'Sunny')\n",
    "evidence_variables = ('umbrella', 'coat')\n",
    "\n",
    "transition_probs = {\n",
    "    'Rainy': {'Rainy': .66 , 'Sunny': .34},\n",
    "    'Sunny': {'Rainy': .5, 'Sunny': .5}\n",
    "}\n",
    "\n",
    "emission_probs = {\n",
    "    'Rainy' : {'umbrella':[0.25, 0.75], 'coat':[0.34, 0.66]},\n",
    "    'Sunny' : {'umbrella':[0.75, 0.25], 'coat':[0.5,  0.5]}\n",
    "}"
   ]
  },
  {
   "cell_type": "markdown",
   "metadata": {},
   "source": [
    "We can use the forward-backward algorithm to compute the posterior probabilities of the state variables given a sequence of observations. We can use these probabilities in turn to figure out the most likely state at any point in time. \n",
    "\n",
    "The forward-backward algorithm is specified in figure 15.4 of Russell & Norvig, with the Forward operator given as equation 15.5, and the Backward operator given as 15.9. "
   ]
  },
  {
   "cell_type": "markdown",
   "metadata": {},
   "source": [
    "Fill out `forward_backward()` to return the distribution of posterior probabilities of all states at each time step. We will provide tests for you - stay tuned!"
   ]
  },
  {
   "cell_type": "code",
   "execution_count": 139,
   "metadata": {
    "collapsed": false
   },
   "outputs": [],
   "source": [
    "from functools import reduce\n",
    "from operator import mul\n",
    "def forward_backward(evidence_vector, prior, states, evidence_variables, transition_probs, emission_probs ):\n",
    "    \n",
    "    \"\"\"\n",
    "        This method takes as input the following:\n",
    "    \n",
    "        evidence_vector: A list of dictionaries mapping evidence variables to their values at each time step\n",
    "        \n",
    "        prior: A dictionary corresponding to the prior distribution over states\n",
    "        \n",
    "        states: A list of all possible system states\n",
    "        \n",
    "        evidence_variables: A list of all valid evidence variables\n",
    "        \n",
    "        transition_probs: A dictionary mapping states onto dictionaries mapping states onto probabilities\n",
    "        \n",
    "        emission_probs: A dictionary mapping states onto dictionaries mapping evidence variables onto \n",
    "                    a list of probabilities for their possible values\n",
    "                    \n",
    "                    \n",
    "        This method returns:\n",
    "            A list of dictionaries giving the distribution of possible states at each time step\n",
    "        \n",
    "    \"\"\"\n",
    "    \n",
    "    alpha = [{}]\n",
    "    beta = [{}]\n",
    "    \n",
    "    #initialization\n",
    "    smoothing_term = []\n",
    "    for each_state in states:\n",
    "        alpha[0][each_state] = prior[each_state]\n",
    "        for evidence in evidence_variables:\n",
    "            alpha[0][each_state] = alpha[0][each_state]*emission_probs[each_state][evidence][evidence_vector[0][evidence]]\n",
    "    \n",
    "    for each_state in states:\n",
    "        beta[0][each_state] = 1\n",
    "        \n",
    "    #forward\n",
    "    for t in range(1,len(evidence_vector)):\n",
    "        alpha.append({})\n",
    "        \n",
    "        for curr_state in states:\n",
    "            alpha[t][curr_state] = 0\n",
    "            for prev_state in states:\n",
    "                prob = alpha[t-1][prev_state]*transition_probs[prev_state][curr_state]\n",
    "                for evidence in evidence_variables:\n",
    "                    prob = prob*emission_probs[curr_state][evidence][evidence_vector[0][evidence]]\n",
    "                    \n",
    "                alpha[t][curr_state] = alpha[t][curr_state] + prob\n",
    "    \n",
    "    #backward\n",
    "    for rev_index in reversed(range(1,len(evidence_vector))):\n",
    "        temp_back = {}\n",
    "        \n",
    "        for curr_state in states:\n",
    "            temp_back[curr_state] = 0\n",
    "            \n",
    "            for each_state in states:\n",
    "                prob = beta[0][each_state]*transition_probs[curr_state][each_state]\n",
    "                for evidence in evidence_variables:\n",
    "                    prob= prob*emission_probs[each_state][evidence][evidence_vector[rev_index][evidence]]\n",
    "                    \n",
    "                temp_back[curr_state] = temp_back[curr_state] + prob\n",
    "                \n",
    "        beta.insert(0, temp_back)\n",
    "        \n",
    "    posterior = []\n",
    "    for i in range(len(evidence_vector)):\n",
    "        posterior.append({each_state: alpha[i][each_state]*beta[i][each_state]/sum(alpha[len(evidence_vector)-1][k] for k in states) for each_state in states})\n",
    "        \n",
    "    return posterior\n",
    "        "
   ]
  },
  {
   "cell_type": "code",
   "execution_count": 140,
   "metadata": {
    "collapsed": false
   },
   "outputs": [
    {
     "name": "stdout",
     "output_type": "stream",
     "text": [
      "[{'Rainy': 0.20929974455219835, 'Sunny': 0.5867791449070745}, {'Rainy': 0.36761690407995906, 'Sunny': 0.6067004843271727}, {'Rainy': 0.47296938195451615, 'Sunny': 0.7300941216140928}, {'Rainy': 0.3261488138382283, 'Sunny': 0.6738511861617718}, {'Rainy': 0.3561426530205938, 'Sunny': 0.6438573469794061}]\n"
     ]
    }
   ],
   "source": [
    "#The following is an example input:\n",
    "\n",
    "evidence_vector = [{'umbrella':0, 'coat':1},\n",
    "                   {'umbrella':0, 'coat':0},\n",
    "                   {'umbrella':1, 'coat':0},\n",
    "                   {'umbrella':1, 'coat':1},\n",
    "                   {'umbrella':0, 'coat':1} ]\n",
    "\n",
    "prior = {'Rainy': 0.5, 'Sunny': 0.5}\n",
    "\n",
    "warmup_output = forward_backward(evidence_vector, \n",
    "                                 prior, \n",
    "                                 states, \n",
    "                                 evidence_variables, \n",
    "                                 transition_probs, \n",
    "                                 emission_probs)\n",
    "print(warmup_output)"
   ]
  },
  {
   "cell_type": "markdown",
   "metadata": {},
   "source": [
    "Now, for the purposes of comparison, compute the most likely sequence of paths for the Swiss Horn examples using the Viterbi algorithm, then compute path by choosing the sequence of most likely states at each instant as given by the Forward-Backward algorithm. How do the total probabilities of the state sequences compare?"
   ]
  },
  {
   "cell_type": "code",
   "execution_count": null,
   "metadata": {
    "collapsed": true
   },
   "outputs": [],
   "source": [
    "def part_2_b():  \n",
    "    \n",
    "    options = {'a': 'The total probabilities are the same.',\n",
    "               'b': 'The Viterbi algorithm yields a more likely sequence',\n",
    "               'c': 'The forward-backward algorithm yields a more likely sequence',\n",
    "               'd': 'Insufficient data is provided',\n",
    "               'e': 'No answer'}\n",
    "    \n",
    "    return options['b']"
   ]
  }
 ],
 "metadata": {
  "kernelspec": {
   "display_name": "Python 2",
   "language": "python",
   "name": "python2"
  },
  "language_info": {
   "codemirror_mode": {
    "name": "ipython",
    "version": 2
   },
   "file_extension": ".py",
   "mimetype": "text/x-python",
   "name": "python",
   "nbconvert_exporter": "python",
   "pygments_lexer": "ipython2",
   "version": "2.7.10"
  }
 },
 "nbformat": 4,
 "nbformat_minor": 0
}
